{
  "nbformat": 4,
  "nbformat_minor": 0,
  "metadata": {
    "colab": {
      "private_outputs": true,
      "provenance": [],
      "authorship_tag": "ABX9TyNspxv+aV9Re1Dc5HQVPBqj",
      "include_colab_link": true
    },
    "kernelspec": {
      "name": "python3",
      "display_name": "Python 3"
    },
    "language_info": {
      "name": "python"
    }
  },
  "cells": [
    {
      "cell_type": "markdown",
      "metadata": {
        "id": "view-in-github",
        "colab_type": "text"
      },
      "source": [
        "<a href=\"https://colab.research.google.com/github/azimjaan21/NumPy_array_INDEXING/blob/main/numpy_array_indexing.ipynb\" target=\"_parent\"><img src=\"https://colab.research.google.com/assets/colab-badge.svg\" alt=\"Open In Colab\"/></a>"
      ]
    },
    {
      "cell_type": "markdown",
      "source": [
        "# Numpy Array Indexing"
      ],
      "metadata": {
        "id": "270Y6SUgvX_G"
      }
    },
    {
      "cell_type": "code",
      "execution_count": null,
      "metadata": {
        "id": "WGeiQmHKuzak"
      },
      "outputs": [],
      "source": [
        "import numpy as np"
      ]
    },
    {
      "cell_type": "code",
      "source": [
        "arr = np.arange(21, 70, 7)\n",
        "arr"
      ],
      "metadata": {
        "id": "PdfGChNxvjh9"
      },
      "execution_count": null,
      "outputs": []
    },
    {
      "cell_type": "markdown",
      "source": [
        "Choosing by index in the array elements"
      ],
      "metadata": {
        "id": "uIQz3xoAwYq9"
      }
    },
    {
      "cell_type": "code",
      "source": [
        "arr[3]"
      ],
      "metadata": {
        "id": "xHOC57-JwLe8"
      },
      "execution_count": null,
      "outputs": []
    },
    {
      "cell_type": "markdown",
      "source": [
        "Cutting the elements"
      ],
      "metadata": {
        "id": "PAAZxCLLwld2"
      }
    },
    {
      "cell_type": "code",
      "source": [
        "arr[3:6]"
      ],
      "metadata": {
        "id": "hMgts4ubwiAb"
      },
      "execution_count": null,
      "outputs": []
    },
    {
      "cell_type": "code",
      "source": [
        "arr1 = np.arange(10, 100, 10)\n",
        "arr1"
      ],
      "metadata": {
        "id": "6NFdU09Uwti6"
      },
      "execution_count": null,
      "outputs": []
    },
    {
      "cell_type": "code",
      "source": [
        "sliced_arr = arr1[2:5]\n",
        "sliced_arr"
      ],
      "metadata": {
        "id": "tPQNEMKeyIrD"
      },
      "execution_count": null,
      "outputs": []
    },
    {
      "cell_type": "code",
      "source": [
        "sliced_arr[:] = 7\n",
        "sliced_arr"
      ],
      "metadata": {
        "id": "hp2QRMx9yM66"
      },
      "execution_count": null,
      "outputs": []
    },
    {
      "cell_type": "code",
      "source": [
        "arr1"
      ],
      "metadata": {
        "id": "ydf8aIEKyTgj"
      },
      "execution_count": null,
      "outputs": []
    },
    {
      "cell_type": "markdown",
      "source": [
        "**copy**"
      ],
      "metadata": {
        "id": "ijIfnt8myYZG"
      }
    },
    {
      "cell_type": "code",
      "source": [
        "arr2 = np.arange(10, 100, 10)\n",
        "arr2"
      ],
      "metadata": {
        "id": "hHxtdINRyWhz"
      },
      "execution_count": null,
      "outputs": []
    },
    {
      "cell_type": "code",
      "source": [
        "sliced_arr2 = arr2[2:5].copy() #it gets copy from the array\n",
        "sliced_arr2"
      ],
      "metadata": {
        "id": "OjGOuEp6ygiC"
      },
      "execution_count": null,
      "outputs": []
    },
    {
      "cell_type": "code",
      "source": [
        "sliced_arr2[:] = 0\n",
        "sliced_arr2"
      ],
      "metadata": {
        "id": "0hZUb3dwyjQr"
      },
      "execution_count": null,
      "outputs": []
    },
    {
      "cell_type": "code",
      "source": [
        "arr2 # with \"copy\" there is no changes in the array"
      ],
      "metadata": {
        "id": "sntItut6ynhh"
      },
      "execution_count": null,
      "outputs": []
    },
    {
      "cell_type": "markdown",
      "source": [
        "# 2D ARRAY INDEXING"
      ],
      "metadata": {
        "id": "x_DfgWv1zH76"
      }
    },
    {
      "cell_type": "markdown",
      "source": [
        "![image.png](data:image/png;base64,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)"
      ],
      "metadata": {
        "id": "Fv4Ou4nzy3gi"
      }
    },
    {
      "cell_type": "code",
      "source": [],
      "metadata": {
        "id": "UkThBb-Lyo70"
      },
      "execution_count": null,
      "outputs": []
    }
  ]
}